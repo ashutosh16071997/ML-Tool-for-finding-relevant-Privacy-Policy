{
 "cells": [
  {
   "cell_type": "markdown",
   "metadata": {
    "id": "a5bUDnQHQgf1"
   },
   "source": [
    "# **Instagram Policy**"
   ]
  },
  {
   "cell_type": "code",
   "execution_count": 1,
   "metadata": {
    "id": "zefgCuuDN8t5"
   },
   "outputs": [],
   "source": [
    "import numpy as np\n",
    "import pandas as pd\n",
    "import seaborn as sns\n",
    "import matplotlib.pyplot as plt"
   ]
  },
  {
   "cell_type": "code",
   "execution_count": 2,
   "metadata": {
    "colab": {
     "base_uri": "https://localhost:8080/"
    },
    "id": "GnJlZMcCPGu7",
    "outputId": "3248dc3a-b4e8-4dff-8bce-6481262d2089"
   },
   "outputs": [
    {
     "name": "stdout",
     "output_type": "stream",
     "text": [
      "Mounted at /content/drive\n"
     ]
    }
   ],
   "source": [
    "from google.colab import drive\n",
    "drive.mount('/content/drive')"
   ]
  },
  {
   "cell_type": "code",
   "execution_count": 3,
   "metadata": {
    "id": "hilxlf7LP1TC"
   },
   "outputs": [],
   "source": [
    "dataset_policy= pd.read_csv('/content/drive/MyDrive/instagram_policy.txt', delimiter = '\\t') "
   ]
  },
  {
   "cell_type": "code",
   "execution_count": 4,
   "metadata": {
    "colab": {
     "base_uri": "https://localhost:8080/",
     "height": 417
    },
    "id": "qWU-g6d8QNK3",
    "outputId": "ec336295-4613-4252-c026-b5d9c1f6a8ab"
   },
   "outputs": [
    {
     "data": {
      "text/html": [
       "<div>\n",
       "<style scoped>\n",
       "    .dataframe tbody tr th:only-of-type {\n",
       "        vertical-align: middle;\n",
       "    }\n",
       "\n",
       "    .dataframe tbody tr th {\n",
       "        vertical-align: top;\n",
       "    }\n",
       "\n",
       "    .dataframe thead th {\n",
       "        text-align: right;\n",
       "    }\n",
       "</style>\n",
       "<table border=\"1\" class=\"dataframe\">\n",
       "  <thead>\n",
       "    <tr style=\"text-align: right;\">\n",
       "      <th></th>\n",
       "      <th>Instagram Data Policy</th>\n",
       "    </tr>\n",
       "  </thead>\n",
       "  <tbody>\n",
       "    <tr>\n",
       "      <th>0</th>\n",
       "      <td>This policy describes the information we proce...</td>\n",
       "    </tr>\n",
       "    <tr>\n",
       "      <th>1</th>\n",
       "      <td>I. What kind of information do we collect?</td>\n",
       "    </tr>\n",
       "    <tr>\n",
       "      <th>2</th>\n",
       "      <td>To make all Facebook products available, we mu...</td>\n",
       "    </tr>\n",
       "    <tr>\n",
       "      <th>3</th>\n",
       "      <td>The work you and others do and provide.</td>\n",
       "    </tr>\n",
       "    <tr>\n",
       "      <th>4</th>\n",
       "      <td>Information and materials you provide. We coll...</td>\n",
       "    </tr>\n",
       "    <tr>\n",
       "      <th>...</th>\n",
       "      <td>...</td>\n",
       "    </tr>\n",
       "    <tr>\n",
       "      <th>94</th>\n",
       "      <td>Facebook, Inc.</td>\n",
       "    </tr>\n",
       "    <tr>\n",
       "      <th>95</th>\n",
       "      <td>ATTN: Privacy Operations</td>\n",
       "    </tr>\n",
       "    <tr>\n",
       "      <th>96</th>\n",
       "      <td>1601 Willow Road</td>\n",
       "    </tr>\n",
       "    <tr>\n",
       "      <th>97</th>\n",
       "      <td>Menlo Park, CA 94025</td>\n",
       "    </tr>\n",
       "    <tr>\n",
       "      <th>98</th>\n",
       "      <td>Date of last revision: 11 January 2021</td>\n",
       "    </tr>\n",
       "  </tbody>\n",
       "</table>\n",
       "<p>99 rows × 1 columns</p>\n",
       "</div>"
      ],
      "text/plain": [
       "                                Instagram Data Policy\n",
       "0   This policy describes the information we proce...\n",
       "1          I. What kind of information do we collect?\n",
       "2   To make all Facebook products available, we mu...\n",
       "3             The work you and others do and provide.\n",
       "4   Information and materials you provide. We coll...\n",
       "..                                                ...\n",
       "94                                     Facebook, Inc.\n",
       "95                           ATTN: Privacy Operations\n",
       "96                                   1601 Willow Road\n",
       "97                               Menlo Park, CA 94025\n",
       "98             Date of last revision: 11 January 2021\n",
       "\n",
       "[99 rows x 1 columns]"
      ]
     },
     "execution_count": 4,
     "metadata": {},
     "output_type": "execute_result"
    }
   ],
   "source": [
    "dataset_policy"
   ]
  },
  {
   "cell_type": "markdown",
   "metadata": {
    "id": "cezyefOoRuaY"
   },
   "source": [
    "**TEXT PREPROCESSING**"
   ]
  },
  {
   "cell_type": "markdown",
   "metadata": {
    "id": "D8SL52s3rEaM"
   },
   "source": [
    "**Removing all unwanted characters like email extensions and other non relevant details**"
   ]
  },
  {
   "cell_type": "code",
   "execution_count": 5,
   "metadata": {
    "id": "BpfUy6l2QfBi"
   },
   "outputs": [],
   "source": [
    "import re\n",
    "def cleanningunwanted(text):\n",
    "    \n",
    "    text = re.sub('[0-9]+.\\t','',str(text))\n",
    "    text = re.sub('\\n ','',str(text))\n",
    "    text = re.sub('\\n',' ',str(text))\n",
    "    text = re.sub(\"'s\",'',str(text))\n",
    "    text = re.sub(\"-\",' ',str(text))\n",
    "    text = re.sub(\"— \",'',str(text))\n",
    "    text = re.sub('\\\"','',str(text))\n",
    "    text = re.sub(\"[\\(\\[].*?[\\)\\]]\", \"\", str(text))\n",
    "    return text\n",
    "\n",
    "# preprocessing speeches\n",
    "dataset_policy['Instagram Data Policy'] = dataset_policy['Instagram Data Policy'].apply(cleanningunwanted)"
   ]
  },
  {
   "cell_type": "code",
   "execution_count": 6,
   "metadata": {
    "colab": {
     "base_uri": "https://localhost:8080/",
     "height": 417
    },
    "id": "tt-ic9SZS0J6",
    "outputId": "3499d7b1-f87d-4acf-ce51-e47907b67900"
   },
   "outputs": [
    {
     "data": {
      "text/html": [
       "<div>\n",
       "<style scoped>\n",
       "    .dataframe tbody tr th:only-of-type {\n",
       "        vertical-align: middle;\n",
       "    }\n",
       "\n",
       "    .dataframe tbody tr th {\n",
       "        vertical-align: top;\n",
       "    }\n",
       "\n",
       "    .dataframe thead th {\n",
       "        text-align: right;\n",
       "    }\n",
       "</style>\n",
       "<table border=\"1\" class=\"dataframe\">\n",
       "  <thead>\n",
       "    <tr style=\"text-align: right;\">\n",
       "      <th></th>\n",
       "      <th>Instagram Data Policy</th>\n",
       "    </tr>\n",
       "  </thead>\n",
       "  <tbody>\n",
       "    <tr>\n",
       "      <th>0</th>\n",
       "      <td>This policy describes the information we proce...</td>\n",
       "    </tr>\n",
       "    <tr>\n",
       "      <th>1</th>\n",
       "      <td>I. What kind of information do we collect?</td>\n",
       "    </tr>\n",
       "    <tr>\n",
       "      <th>2</th>\n",
       "      <td>To make all Facebook products available, we mu...</td>\n",
       "    </tr>\n",
       "    <tr>\n",
       "      <th>3</th>\n",
       "      <td>The work you and others do and provide.</td>\n",
       "    </tr>\n",
       "    <tr>\n",
       "      <th>4</th>\n",
       "      <td>Information and materials you provide. We coll...</td>\n",
       "    </tr>\n",
       "    <tr>\n",
       "      <th>...</th>\n",
       "      <td>...</td>\n",
       "    </tr>\n",
       "    <tr>\n",
       "      <th>94</th>\n",
       "      <td>Facebook, Inc.</td>\n",
       "    </tr>\n",
       "    <tr>\n",
       "      <th>95</th>\n",
       "      <td>ATTN: Privacy Operations</td>\n",
       "    </tr>\n",
       "    <tr>\n",
       "      <th>96</th>\n",
       "      <td>1601 Willow Road</td>\n",
       "    </tr>\n",
       "    <tr>\n",
       "      <th>97</th>\n",
       "      <td>Menlo Park, CA 94025</td>\n",
       "    </tr>\n",
       "    <tr>\n",
       "      <th>98</th>\n",
       "      <td>Date of last revision: 11 January 2021</td>\n",
       "    </tr>\n",
       "  </tbody>\n",
       "</table>\n",
       "<p>99 rows × 1 columns</p>\n",
       "</div>"
      ],
      "text/plain": [
       "                                Instagram Data Policy\n",
       "0   This policy describes the information we proce...\n",
       "1          I. What kind of information do we collect?\n",
       "2   To make all Facebook products available, we mu...\n",
       "3             The work you and others do and provide.\n",
       "4   Information and materials you provide. We coll...\n",
       "..                                                ...\n",
       "94                                     Facebook, Inc.\n",
       "95                           ATTN: Privacy Operations\n",
       "96                                   1601 Willow Road\n",
       "97                               Menlo Park, CA 94025\n",
       "98             Date of last revision: 11 January 2021\n",
       "\n",
       "[99 rows x 1 columns]"
      ]
     },
     "execution_count": 6,
     "metadata": {},
     "output_type": "execute_result"
    }
   ],
   "source": [
    "dataset_policy"
   ]
  },
  {
   "cell_type": "markdown",
   "metadata": {
    "id": "sd3GLvaJrOfO"
   },
   "source": [
    "**Installed matcher library from spacy to just extract those text lines which follows a specific pattern from the dataset**"
   ]
  },
  {
   "cell_type": "code",
   "execution_count": 7,
   "metadata": {
    "id": "G1YTHderS5qV"
   },
   "outputs": [],
   "source": [
    "import spacy\n",
    "from spacy.matcher import Matcher \n",
    "\n",
    "# load english language model\n",
    "nlp = spacy.load('en_core_web_sm',disable=['ner','textcat'])"
   ]
  },
  {
   "cell_type": "code",
   "execution_count": 8,
   "metadata": {
    "id": "TC79ihGkaf2p"
   },
   "outputs": [],
   "source": [
    "result = []"
   ]
  },
  {
   "cell_type": "markdown",
   "metadata": {
    "id": "pYlSfcrbrfTl"
   },
   "source": [
    "**In this function we are finding all the lines which follow a specific pattern. A pattern which gives sentences telling about users consent and choice. These patterns are generic in nature meaning commonly used words in privacy policies of different companies denoting user consent**"
   ]
  },
  {
   "cell_type": "code",
   "execution_count": 9,
   "metadata": {
    "id": "5twShyKCWLEQ"
   },
   "outputs": [],
   "source": [
    "\n",
    "def sent_subtree(text):\n",
    "    \n",
    "    patterns = [r'\\b(?i)'+'you allow'+r'\\b',\n",
    "              r'\\b(?i)'+'you provide'+r'\\b',\n",
    "              r'\\b(?i)'+'you use'+r'\\b',\n",
    "             r'\\b(?i)'+'accept'+r'\\b',\n",
    "             r'\\b(?i)'+'you share'+r'\\b',\n",
    "             r'\\b(?i)'+'agree'+r'\\b',\n",
    "             r'\\b(?i)'+'consent'+r'\\b',\n",
    "             r'\\b(?i)'+'personal'+r'\\b',\n",
    "              ]\n",
    "    \n",
    "    doc = nlp(text)\n",
    "    flag = 0\n",
    "    # if no initiative present in sentence\n",
    "    for pat in patterns:\n",
    "        \n",
    "        if re.search(pat, text) != None:\n",
    "          flag = 1\n",
    "          print(pat)\n",
    "          break\n",
    "    if flag == 1:\n",
    "      result.append(text)      \n",
    "            \n",
    "      "
   ]
  },
  {
   "cell_type": "code",
   "execution_count": 10,
   "metadata": {
    "id": "Qn_qRVKuX0xz"
   },
   "outputs": [],
   "source": [
    "initial = dataset_policy[\"Instagram Data Policy\"]"
   ]
  },
  {
   "cell_type": "code",
   "execution_count": 11,
   "metadata": {
    "colab": {
     "base_uri": "https://localhost:8080/"
    },
    "id": "RZZxcVTIbFsD",
    "outputId": "ed2e04b6-8413-430c-978c-3554069fdfcd"
   },
   "outputs": [
    {
     "name": "stdout",
     "output_type": "stream",
     "text": [
      "0     This policy describes the information we proce...\n",
      "1            I. What kind of information do we collect?\n",
      "2     To make all Facebook products available, we mu...\n",
      "3               The work you and others do and provide.\n",
      "4     Information and materials you provide. We coll...\n",
      "                            ...                        \n",
      "94                                       Facebook, Inc.\n",
      "95                             ATTN: Privacy Operations\n",
      "96                                     1601 Willow Road\n",
      "97                                 Menlo Park, CA 94025\n",
      "98               Date of last revision: 11 January 2021\n",
      "Name: Instagram Data Policy, Length: 99, dtype: object\n"
     ]
    }
   ],
   "source": [
    "print(initial)"
   ]
  },
  {
   "cell_type": "markdown",
   "metadata": {
    "id": "PTXPP75pr8n1"
   },
   "source": [
    "**This function is just to separate all the different sentences. We separate sentences with full stop. They are more than one full stop delimited sentences in a single in the text file. Hence we are separating each sentence for better pattern matching**"
   ]
  },
  {
   "cell_type": "code",
   "execution_count": 12,
   "metadata": {
    "id": "QRQwCgLp4LJM"
   },
   "outputs": [],
   "source": [
    "interim = []"
   ]
  },
  {
   "cell_type": "code",
   "execution_count": 13,
   "metadata": {
    "id": "U0yZm-rUeFwB"
   },
   "outputs": [],
   "source": [
    "def separation(text):\n",
    "   import spacy\n",
    "   nlp = spacy.load('en')\n",
    "   tokens = nlp(text)\n",
    "   for sent in tokens.sents:\n",
    "     interim.append(sent.string.strip())"
   ]
  },
  {
   "cell_type": "code",
   "execution_count": 14,
   "metadata": {
    "id": "s9JUAL8ze_56"
   },
   "outputs": [],
   "source": [
    "interim = []\n",
    "for i in initial:\n",
    "  separation(i)"
   ]
  },
  {
   "cell_type": "markdown",
   "metadata": {
    "id": "d4D_7TQEsa-_"
   },
   "source": [
    "**Outputting the patterns matched in the lines**"
   ]
  },
  {
   "cell_type": "code",
   "execution_count": 15,
   "metadata": {
    "colab": {
     "base_uri": "https://localhost:8080/"
    },
    "id": "rNYmqk9HbJbJ",
    "outputId": "0a5f7695-c3ae-4f92-8e83-62bcce4a53b3"
   },
   "outputs": [
    {
     "name": "stderr",
     "output_type": "stream",
     "text": [
      "/usr/local/lib/python3.7/dist-packages/ipykernel_launcher.py:19: DeprecationWarning: Flags not at the start of the expression '\\\\b(?i)you allow\\\\b'\n",
      "/usr/local/lib/python3.7/dist-packages/ipykernel_launcher.py:19: DeprecationWarning: Flags not at the start of the expression '\\\\b(?i)you provide\\\\b'\n",
      "/usr/local/lib/python3.7/dist-packages/ipykernel_launcher.py:19: DeprecationWarning: Flags not at the start of the expression '\\\\b(?i)you use\\\\b'\n",
      "/usr/local/lib/python3.7/dist-packages/ipykernel_launcher.py:19: DeprecationWarning: Flags not at the start of the expression '\\\\b(?i)accept\\\\b'\n",
      "/usr/local/lib/python3.7/dist-packages/ipykernel_launcher.py:19: DeprecationWarning: Flags not at the start of the expression '\\\\b(?i)you share\\\\b'\n",
      "/usr/local/lib/python3.7/dist-packages/ipykernel_launcher.py:19: DeprecationWarning: Flags not at the start of the expression '\\\\b(?i)agree\\\\b'\n",
      "/usr/local/lib/python3.7/dist-packages/ipykernel_launcher.py:19: DeprecationWarning: Flags not at the start of the expression '\\\\b(?i)consent\\\\b'\n",
      "/usr/local/lib/python3.7/dist-packages/ipykernel_launcher.py:19: DeprecationWarning: Flags not at the start of the expression '\\\\b(?i)personal\\\\b'\n"
     ]
    },
    {
     "name": "stdout",
     "output_type": "stream",
     "text": [
      "\\b(?i)you use\\b\n",
      "\\b(?i)you provide\\b\n",
      "\\b(?i)you provide\\b\n",
      "\\b(?i)you provide\\b\n",
      "\\b(?i)you share\\b\n",
      "\\b(?i)you use\\b\n",
      "\\b(?i)you use\\b\n",
      "\\b(?i)you use\\b\n",
      "\\b(?i)you use\\b\n",
      "\\b(?i)you use\\b\n",
      "\\b(?i)you allow\\b\n",
      "\\b(?i)you use\\b\n",
      "\\b(?i)you use\\b\n",
      "\\b(?i)you use\\b\n",
      "\\b(?i)you share\\b\n",
      "\\b(?i)you share\\b\n",
      "\\b(?i)you use\\b\n",
      "\\b(?i)you share\\b\n",
      "\\b(?i)you share\\b\n",
      "\\b(?i)you share\\b\n",
      "\\b(?i)you use\\b\n",
      "\\b(?i)you share\\b\n",
      "\\b(?i)you share\\b\n",
      "\\b(?i)you use\\b\n",
      "\\b(?i)you share\\b\n",
      "\\b(?i)you share\\b\n",
      "\\b(?i)you use\\b\n",
      "\\b(?i)you share\\b\n",
      "\\b(?i)consent\\b\n"
     ]
    }
   ],
   "source": [
    "for i in interim:\n",
    "  sent_subtree(i)"
   ]
  },
  {
   "cell_type": "code",
   "execution_count": 16,
   "metadata": {
    "colab": {
     "base_uri": "https://localhost:8080/"
    },
    "id": "UW3jTuQmbQpr",
    "outputId": "10895a2d-6fdf-401e-f87e-f4e49562612d"
   },
   "outputs": [
    {
     "name": "stdout",
     "output_type": "stream",
     "text": [
      "['The information we collect depends on how you use our products.', 'Information and materials you provide.', 'We collect the content, communications and other information you provide when you use our products, including when you sign up for an account, create or share content, and message or interact with other people doing is involved.', 'This may include information about or related to the content you provide, such as the location of a photo or the date the file was created.', 'Learn more about how to control who can see the content you share .', 'We collect information about how you use our products, such as the types of content you view or link to; the features you use; actions you take; The people or accounts you interact with and the time, frequency and duration of your activities.', 'We also collect information about how you use our features, such as our camera.', 'If you use our products for purchases or financial transactions , we collect information about those purchases or transactions.', 'you use that are linked to our products and we collect this information from you.', 'But as you see when you use our product on your laptop or tablet or we use this information to determine whether you took any action in response to an advertisement we displayed on your mobile or other device .', 'Data from Device Settings: Information you allow us to collect when you turn on Device Settings, such as your GPS location, access to the camera or photos.', \"These partners make available information about your activities off Facebook—including information about your device, the websites you visit, the purchases you make, the ads you see, and whether you use their How you use the Services—regardless of whether or not you have a Facebook account or whether you're logged into Facebook.\", 'know ; how you use and interact with our products; and the people, places, or things that you are associated with and are interested in, on or off our products.', 'Across all Facebook Products that you use, we link information about your activities across various Facebook products and devices, for a more unique and consistent experience, regardless of where you use them.', 'The people and accounts with whom you share and communicate with.', 'When you share and communicate using our products, you choose the audience for the information to be shared .', 'Similarly, when you use Messenger or Instagram to communicate with people or do business, those people and businesses can see the contacts you send.', 'This includes your Instagram username; all information you share with a public audience; information in your public profile on Facebook ; and Facebook Pages, public Instagram accounts, or any other public platform such as Facebook MarketplaceBut', 'the content you share is included.', 'For example, when you share a post or send a message to a specific friend or account, they may download screenshots of that content or share that content on or off all of our products in their own or virtual reality experiences, such as You can re share with others on Facebook places .', 'When you use third party applications, websites or other services that use or are linked to our products, they may receive information about what you post or share.', 'What you share on Facebook from the website.', 'Also, when you download or use such third party services, they may access your public profile on Facebook and any information you share with them.', 'Apps or websites you use may receive your Facebook friends list, If you choose to share it with them.', 'When you subscribe to receive premium content or purchase something from a seller in one of our products, the content creator or seller may receive your public information and other information that you share with them, including shipping And also get the information required to complete the transaction including contact details.', 'See Facebook settings and Instagram settings to learn more about how you and others control the information you share about you with third party partners .', 'Facebook and Instagram integrate the infrastructure, systems, and technology with other Facebook companies to deliver a new, relevant, consistent and secure experience across all Facebook Company products that you use..', 'Cookie data received through content you share and social plug ins Learn more about deleting.', 'Rely on and obtain your consent to these data transfers to the United States and other countries.']\n"
     ]
    }
   ],
   "source": [
    "print(result)"
   ]
  },
  {
   "cell_type": "markdown",
   "metadata": {
    "id": "VhdTtl6fskJa"
   },
   "source": [
    "**The next two cells show the result. The first cell shows the result in the resultant cell and the second cell is just the dataframe of the result.**"
   ]
  },
  {
   "cell_type": "code",
   "execution_count": 17,
   "metadata": {
    "colab": {
     "base_uri": "https://localhost:8080/"
    },
    "id": "VwymdOZqdODN",
    "outputId": "0cd2fdcb-a712-4e8d-e7eb-e4c8ba3fae91"
   },
   "outputs": [
    {
     "name": "stdout",
     "output_type": "stream",
     "text": [
      "The information we collect depends on how you use our products.\n",
      "Information and materials you provide.\n",
      "We collect the content, communications and other information you provide when you use our products, including when you sign up for an account, create or share content, and message or interact with other people doing is involved.\n",
      "This may include information about or related to the content you provide, such as the location of a photo or the date the file was created.\n",
      "Learn more about how to control who can see the content you share .\n",
      "We collect information about how you use our products, such as the types of content you view or link to; the features you use; actions you take; The people or accounts you interact with and the time, frequency and duration of your activities.\n",
      "We also collect information about how you use our features, such as our camera.\n",
      "If you use our products for purchases or financial transactions , we collect information about those purchases or transactions.\n",
      "you use that are linked to our products and we collect this information from you.\n",
      "But as you see when you use our product on your laptop or tablet or we use this information to determine whether you took any action in response to an advertisement we displayed on your mobile or other device .\n",
      "Data from Device Settings: Information you allow us to collect when you turn on Device Settings, such as your GPS location, access to the camera or photos.\n",
      "These partners make available information about your activities off Facebook—including information about your device, the websites you visit, the purchases you make, the ads you see, and whether you use their How you use the Services—regardless of whether or not you have a Facebook account or whether you're logged into Facebook.\n",
      "know ; how you use and interact with our products; and the people, places, or things that you are associated with and are interested in, on or off our products.\n",
      "Across all Facebook Products that you use, we link information about your activities across various Facebook products and devices, for a more unique and consistent experience, regardless of where you use them.\n",
      "The people and accounts with whom you share and communicate with.\n",
      "When you share and communicate using our products, you choose the audience for the information to be shared .\n",
      "Similarly, when you use Messenger or Instagram to communicate with people or do business, those people and businesses can see the contacts you send.\n",
      "This includes your Instagram username; all information you share with a public audience; information in your public profile on Facebook ; and Facebook Pages, public Instagram accounts, or any other public platform such as Facebook MarketplaceBut\n",
      "the content you share is included.\n",
      "For example, when you share a post or send a message to a specific friend or account, they may download screenshots of that content or share that content on or off all of our products in their own or virtual reality experiences, such as You can re share with others on Facebook places .\n",
      "When you use third party applications, websites or other services that use or are linked to our products, they may receive information about what you post or share.\n",
      "What you share on Facebook from the website.\n",
      "Also, when you download or use such third party services, they may access your public profile on Facebook and any information you share with them.\n",
      "Apps or websites you use may receive your Facebook friends list, If you choose to share it with them.\n",
      "When you subscribe to receive premium content or purchase something from a seller in one of our products, the content creator or seller may receive your public information and other information that you share with them, including shipping And also get the information required to complete the transaction including contact details.\n",
      "See Facebook settings and Instagram settings to learn more about how you and others control the information you share about you with third party partners .\n",
      "Facebook and Instagram integrate the infrastructure, systems, and technology with other Facebook companies to deliver a new, relevant, consistent and secure experience across all Facebook Company products that you use..\n",
      "Cookie data received through content you share and social plug ins Learn more about deleting.\n",
      "Rely on and obtain your consent to these data transfers to the United States and other countries.\n"
     ]
    }
   ],
   "source": [
    "for i in result:\n",
    "  print(i)"
   ]
  },
  {
   "cell_type": "code",
   "execution_count": 18,
   "metadata": {
    "colab": {
     "base_uri": "https://localhost:8080/"
    },
    "id": "r6aj87dfbXFw",
    "outputId": "f2657987-c910-4fd6-deed-54b09f049b6a"
   },
   "outputs": [
    {
     "name": "stdout",
     "output_type": "stream",
     "text": [
      "                                               result\n",
      "0   The information we collect depends on how you ...\n",
      "1              Information and materials you provide.\n",
      "2   We collect the content, communications and oth...\n",
      "3   This may include information about or related ...\n",
      "4   Learn more about how to control who can see th...\n",
      "5   We collect information about how you use our p...\n",
      "6   We also collect information about how you use ...\n",
      "7   If you use our products for purchases or finan...\n",
      "8   you use that are linked to our products and we...\n",
      "9   But as you see when you use our product on you...\n",
      "10  Data from Device Settings: Information you all...\n",
      "11  These partners make available information abou...\n",
      "12  know ; how you use and interact with our produ...\n",
      "13  Across all Facebook Products that you use, we ...\n",
      "14  The people and accounts with whom you share an...\n",
      "15  When you share and communicate using our produ...\n",
      "16  Similarly, when you use Messenger or Instagram...\n",
      "17  This includes your Instagram username; all inf...\n",
      "18                 the content you share is included.\n",
      "19  For example, when you share a post or send a m...\n",
      "20  When you use third party applications, website...\n",
      "21       What you share on Facebook from the website.\n",
      "22  Also, when you download or use such third part...\n",
      "23  Apps or websites you use may receive your Face...\n",
      "24  When you subscribe to receive premium content ...\n",
      "25  See Facebook settings and Instagram settings t...\n",
      "26  Facebook and Instagram integrate the infrastru...\n",
      "27  Cookie data received through content you share...\n",
      "28  Rely on and obtain your consent to these data ...\n"
     ]
    }
   ],
   "source": [
    "df = pd.DataFrame(result, columns=['result'])\n",
    "print(df)"
   ]
  },
  {
   "cell_type": "markdown",
   "metadata": {
    "id": "LaRvW_iCsx4R"
   },
   "source": [
    "# **ZOMATO PRIVACY POLICY**"
   ]
  },
  {
   "cell_type": "code",
   "execution_count": 19,
   "metadata": {
    "colab": {
     "base_uri": "https://localhost:8080/"
    },
    "id": "KYNxawKqs2yG",
    "outputId": "b4827997-579a-434a-cd9e-e0742695cf3f"
   },
   "outputs": [
    {
     "name": "stdout",
     "output_type": "stream",
     "text": [
      "Drive already mounted at /content/drive; to attempt to forcibly remount, call drive.mount(\"/content/drive\", force_remount=True).\n"
     ]
    }
   ],
   "source": [
    "import numpy as np\n",
    "import pandas as pd\n",
    "import seaborn as sns\n",
    "import matplotlib.pyplot as plt\n",
    "from google.colab import drive\n",
    "drive.mount('/content/drive')"
   ]
  },
  {
   "cell_type": "code",
   "execution_count": 20,
   "metadata": {
    "id": "3YiuTzcV0lfp"
   },
   "outputs": [],
   "source": [
    "dataset_policy= pd.read_csv('/content/drive/MyDrive/zomato_policy.txt', delimiter = '\\t') "
   ]
  },
  {
   "cell_type": "code",
   "execution_count": 21,
   "metadata": {
    "colab": {
     "base_uri": "https://localhost:8080/",
     "height": 417
    },
    "id": "xjG98NG802MH",
    "outputId": "b7312423-b5e2-4561-9b64-66eabec53755"
   },
   "outputs": [
    {
     "data": {
      "text/html": [
       "<div>\n",
       "<style scoped>\n",
       "    .dataframe tbody tr th:only-of-type {\n",
       "        vertical-align: middle;\n",
       "    }\n",
       "\n",
       "    .dataframe tbody tr th {\n",
       "        vertical-align: top;\n",
       "    }\n",
       "\n",
       "    .dataframe thead th {\n",
       "        text-align: right;\n",
       "    }\n",
       "</style>\n",
       "<table border=\"1\" class=\"dataframe\">\n",
       "  <thead>\n",
       "    <tr style=\"text-align: right;\">\n",
       "      <th></th>\n",
       "      <th>Privacy Policy</th>\n",
       "    </tr>\n",
       "  </thead>\n",
       "  <tbody>\n",
       "    <tr>\n",
       "      <th>0</th>\n",
       "      <td>Last updated on April 22, 2020.</td>\n",
       "    </tr>\n",
       "    <tr>\n",
       "      <th>1</th>\n",
       "      <td>Zomato Limited (Formerly known as Zomato Priva...</td>\n",
       "    </tr>\n",
       "    <tr>\n",
       "      <th>2</th>\n",
       "      <td>the types of information that Zomato may colle...</td>\n",
       "    </tr>\n",
       "    <tr>\n",
       "      <th>3</th>\n",
       "      <td>its practices for collecting, using, maintaini...</td>\n",
       "    </tr>\n",
       "    <tr>\n",
       "      <th>4</th>\n",
       "      <td>This policy applies only to the information Zo...</td>\n",
       "    </tr>\n",
       "    <tr>\n",
       "      <th>...</th>\n",
       "      <td>...</td>\n",
       "    </tr>\n",
       "    <tr>\n",
       "      <th>154</th>\n",
       "      <td>Mint Hill, NC 28227</td>\n",
       "    </tr>\n",
       "    <tr>\n",
       "      <th>155</th>\n",
       "      <td>For Users residing in any other part of the wo...</td>\n",
       "    </tr>\n",
       "    <tr>\n",
       "      <th>156</th>\n",
       "      <td>Zomato Limited</td>\n",
       "    </tr>\n",
       "    <tr>\n",
       "      <th>157</th>\n",
       "      <td>Ground Floor, Tower C, Vipul Tech Square</td>\n",
       "    </tr>\n",
       "    <tr>\n",
       "      <th>158</th>\n",
       "      <td>Sector 43, Golf Course Road, Gurugram - 122009...</td>\n",
       "    </tr>\n",
       "  </tbody>\n",
       "</table>\n",
       "<p>159 rows × 1 columns</p>\n",
       "</div>"
      ],
      "text/plain": [
       "                                        Privacy Policy\n",
       "0                      Last updated on April 22, 2020.\n",
       "1    Zomato Limited (Formerly known as Zomato Priva...\n",
       "2    the types of information that Zomato may colle...\n",
       "3    its practices for collecting, using, maintaini...\n",
       "4    This policy applies only to the information Zo...\n",
       "..                                                 ...\n",
       "154                                Mint Hill, NC 28227\n",
       "155  For Users residing in any other part of the wo...\n",
       "156                                     Zomato Limited\n",
       "157           Ground Floor, Tower C, Vipul Tech Square\n",
       "158  Sector 43, Golf Course Road, Gurugram - 122009...\n",
       "\n",
       "[159 rows x 1 columns]"
      ]
     },
     "execution_count": 21,
     "metadata": {},
     "output_type": "execute_result"
    }
   ],
   "source": [
    "dataset_policy\n"
   ]
  },
  {
   "cell_type": "code",
   "execution_count": 22,
   "metadata": {
    "id": "bo5Toy3t07xb"
   },
   "outputs": [],
   "source": [
    "import spacy\n",
    "from spacy.matcher import Matcher \n",
    "\n",
    "# load english language model\n",
    "nlp = spacy.load('en_core_web_sm',disable=['ner','textcat'])"
   ]
  },
  {
   "cell_type": "code",
   "execution_count": 23,
   "metadata": {
    "id": "ZpY4AZuv1ArH"
   },
   "outputs": [],
   "source": [
    "result = []"
   ]
  },
  {
   "cell_type": "markdown",
   "metadata": {
    "id": "0v3j_skB1zky"
   },
   "source": [
    "**Removing all unwanted characters like email extensions and other non relevant details**"
   ]
  },
  {
   "cell_type": "code",
   "execution_count": 24,
   "metadata": {
    "id": "XLgYAxR41tPu"
   },
   "outputs": [],
   "source": [
    "import re\n",
    "def cleanningunwanted(text):\n",
    "    \n",
    "    text = re.sub('[0-9]+.\\t','',str(text))\n",
    "    text = re.sub('\\n ','',str(text))\n",
    "    text = re.sub('\\n',' ',str(text))\n",
    "    text = re.sub(\"'s\",'',str(text))\n",
    "    text = re.sub(\"-\",' ',str(text))\n",
    "    text = re.sub(\"— \",'',str(text))\n",
    "    text = re.sub('\\\"','',str(text))\n",
    "    text = re.sub(\"[\\(\\[].*?[\\)\\]]\", \"\", str(text))\n",
    "    return text\n",
    "\n",
    "# preprocessing speeches\n",
    "dataset_policy['Privacy Policy'] = dataset_policy['Privacy Policy'].apply(cleanningunwanted)"
   ]
  },
  {
   "cell_type": "markdown",
   "metadata": {
    "id": "Tm_Wl5611GVQ"
   },
   "source": [
    "**In this function we are finding all the lines which follow a specific pattern. A pattern which gives sentences telling about users consent and choice. These patterns are generic in nature meaning commonly used words in privacy policies of different companies denoting user consent**"
   ]
  },
  {
   "cell_type": "code",
   "execution_count": 25,
   "metadata": {
    "id": "CTvZzUL-1FeN"
   },
   "outputs": [],
   "source": [
    "\n",
    "def sent_subtree(text):\n",
    "    \n",
    "    patterns = [r'\\b(?i)'+'you allow'+r'\\b',\n",
    "              r'\\b(?i)'+'you provide'+r'\\b',\n",
    "              r'\\b(?i)'+'you use'+r'\\b',\n",
    "             r'\\b(?i)'+'accept'+r'\\b',\n",
    "             r'\\b(?i)'+'you share'+r'\\b',\n",
    "             r'\\b(?i)'+'agree'+r'\\b',\n",
    "             r'\\b(?i)'+'consent'+r'\\b',\n",
    "             r'\\b(?i)'+'personal'+r'\\b',\n",
    "              ]\n",
    "    \n",
    "    doc = nlp(text)\n",
    "    flag = 0\n",
    "    # if no initiative present in sentence\n",
    "    for pat in patterns:\n",
    "        \n",
    "        if re.search(pat, text) != None:\n",
    "          flag = 1\n",
    "          print(pat)\n",
    "          break\n",
    "    if flag == 1:\n",
    "      result.append(text)      \n",
    "            \n",
    "      "
   ]
  },
  {
   "cell_type": "code",
   "execution_count": 26,
   "metadata": {
    "id": "424hc-9s1We6"
   },
   "outputs": [],
   "source": [
    "initial = dataset_policy[\"Privacy Policy\"]"
   ]
  },
  {
   "cell_type": "code",
   "execution_count": 27,
   "metadata": {
    "colab": {
     "base_uri": "https://localhost:8080/"
    },
    "id": "CcU0JkUk1fgl",
    "outputId": "c941b31c-d7ca-4740-aa10-0605796fcdd7"
   },
   "outputs": [
    {
     "name": "stdout",
     "output_type": "stream",
     "text": [
      "0                        Last updated on April 22, 2020.\n",
      "1      Zomato Limited  and/or its affiliates  respect...\n",
      "2      the types of information that Zomato may colle...\n",
      "3      its practices for collecting, using, maintaini...\n",
      "4      This policy applies only to the information Zo...\n",
      "                             ...                        \n",
      "154                                  Mint Hill, NC 28227\n",
      "155    For Users residing in any other part of the wo...\n",
      "156                                       Zomato Limited\n",
      "157             Ground Floor, Tower C, Vipul Tech Square\n",
      "158    Sector 43, Golf Course Road, Gurugram   122009...\n",
      "Name: Privacy Policy, Length: 159, dtype: object\n"
     ]
    }
   ],
   "source": [
    "print(initial)"
   ]
  },
  {
   "cell_type": "markdown",
   "metadata": {
    "id": "30DTzNDi2G-y"
   },
   "source": [
    "**This function is just to separate all the different sentences. We separate sentences with full stop. They are more than one full stop delimited sentences in a single in the text file. Hence we are separating each sentence for better pattern matching**"
   ]
  },
  {
   "cell_type": "code",
   "execution_count": 28,
   "metadata": {
    "id": "eMjgRsTM3Lss"
   },
   "outputs": [],
   "source": [
    "interim = []"
   ]
  },
  {
   "cell_type": "code",
   "execution_count": 29,
   "metadata": {
    "id": "nxZMVqe21mG-"
   },
   "outputs": [],
   "source": [
    "def separation(text):\n",
    "   import spacy\n",
    "   nlp = spacy.load('en')\n",
    "   tokens = nlp(text)\n",
    "   for sent in tokens.sents:\n",
    "     interim.append(sent.string.strip())"
   ]
  },
  {
   "cell_type": "code",
   "execution_count": 30,
   "metadata": {
    "id": "ZKO6NAg02OG1"
   },
   "outputs": [],
   "source": [
    "interim = []\n",
    "for i in initial:\n",
    "  separation(i)"
   ]
  },
  {
   "cell_type": "code",
   "execution_count": 31,
   "metadata": {
    "colab": {
     "base_uri": "https://localhost:8080/"
    },
    "id": "VTFHMugv3DKd",
    "outputId": "2096a34c-a3d7-437e-e65b-246b6af937dc"
   },
   "outputs": [
    {
     "name": "stdout",
     "output_type": "stream",
     "text": [
      "300\n"
     ]
    }
   ],
   "source": [
    "print(len(interim))"
   ]
  },
  {
   "cell_type": "markdown",
   "metadata": {
    "id": "tH_nuifx2TI9"
   },
   "source": [
    "**Outputting the patterns matched in the lines**"
   ]
  },
  {
   "cell_type": "code",
   "execution_count": 32,
   "metadata": {
    "colab": {
     "base_uri": "https://localhost:8080/"
    },
    "id": "IHlSHxeP2XL6",
    "outputId": "888195cd-ec2e-4fae-d992-437619ed99fd"
   },
   "outputs": [
    {
     "name": "stdout",
     "output_type": "stream",
     "text": [
      "\\b(?i)you provide\\b\n",
      "\\b(?i)agree\\b\n",
      "\\b(?i)personal\\b\n",
      "\\b(?i)personal\\b\n",
      "\\b(?i)personal\\b\n",
      "\\b(?i)personal\\b\n",
      "\\b(?i)personal\\b\n",
      "\\b(?i)personal\\b\n",
      "\\b(?i)personal\\b\n",
      "\\b(?i)personal\\b\n",
      "\\b(?i)you use\\b\n",
      "\\b(?i)you provide\\b\n",
      "\\b(?i)you provide\\b\n",
      "\\b(?i)you provide\\b\n",
      "\\b(?i)you provide\\b\n",
      "\\b(?i)you use\\b\n",
      "\\b(?i)personal\\b\n",
      "\\b(?i)you use\\b\n",
      "\\b(?i)you use\\b\n",
      "\\b(?i)personal\\b\n",
      "\\b(?i)consent\\b\n",
      "\\b(?i)consent\\b\n",
      "\\b(?i)you use\\b\n",
      "\\b(?i)accept\\b\n",
      "\\b(?i)you use\\b\n",
      "\\b(?i)consent\\b\n",
      "\\b(?i)you provide\\b\n",
      "\\b(?i)consent\\b\n",
      "\\b(?i)consent\\b\n",
      "\\b(?i)you provide\\b\n",
      "\\b(?i)personal\\b\n",
      "\\b(?i)personal\\b\n",
      "\\b(?i)personal\\b\n",
      "\\b(?i)you provide\\b\n",
      "\\b(?i)you provide\\b\n",
      "\\b(?i)consent\\b\n",
      "\\b(?i)consent\\b\n",
      "\\b(?i)you provide\\b\n",
      "\\b(?i)agree\\b\n",
      "\\b(?i)you use\\b\n",
      "\\b(?i)you use\\b\n",
      "\\b(?i)you provide\\b\n",
      "\\b(?i)personal\\b\n",
      "\\b(?i)personal\\b\n",
      "\\b(?i)personal\\b\n",
      "\\b(?i)you provide\\b\n",
      "\\b(?i)personal\\b\n",
      "\\b(?i)personal\\b\n",
      "\\b(?i)personal\\b\n",
      "\\b(?i)personal\\b\n",
      "\\b(?i)personal\\b\n",
      "\\b(?i)personal\\b\n",
      "\\b(?i)personal\\b\n",
      "\\b(?i)personal\\b\n",
      "\\b(?i)personal\\b\n",
      "\\b(?i)personal\\b\n",
      "\\b(?i)personal\\b\n",
      "\\b(?i)consent\\b\n"
     ]
    }
   ],
   "source": [
    "for i in interim:\n",
    "  sent_subtree(i)"
   ]
  },
  {
   "cell_type": "markdown",
   "metadata": {
    "id": "00lgO8XV2fnh"
   },
   "source": [
    "**The next two cells show the result. The first cell shows the result in the resultant cell and the second cell is just the dataframe of the result.**"
   ]
  },
  {
   "cell_type": "code",
   "execution_count": 33,
   "metadata": {
    "colab": {
     "base_uri": "https://localhost:8080/"
    },
    "id": "CHFw84RP2cGR",
    "outputId": "e15cb2dd-0b51-4cfe-ea59-5f45d8eddb2b"
   },
   "outputs": [
    {
     "name": "stdout",
     "output_type": "stream",
     "text": [
      "This policy DOES NOT apply to information that you provide to, or that is collected by, any third party, such as restaurants at which you make reservations and/or pay through Zomato Services and social networks that you use in connection with its Services.\n",
      "By accessing or using its Services and/or registering for an account with Zomato, you agree to this privacy policy and you are consenting to Zomato collection, use, disclosure, retention, and protection of your personal information as described here.\n",
      "If you reside in a country within the European Union/European Economic Area , Zomato Media Portugal, Unipessoal LDA , located at Avenida 24 de Julho, N 102 E, 1200 870, Lisboa, Portugal, will be the controller of your personal data provided to, or collected by or for, or processed in connection with our Services;\n",
      ", NC 28227 will be the controller of your personal data provided to, or collected by or for, or processed in connection with our Services;\n",
      "If you reside in any other part of the world, Zomato Limited, located at Ground Floor, Tower C, Vipul Tech Square, Sector 43, Golf Course Road, Gurugram   122009, Haryana, India will be the controller of your personal data provided to, or collected by or for, or processed in connection with our Services.\n",
      "Your data controller is responsible for the collection, use, disclosure, retention, and protection of your personal information in accordance with its privacy standards as well as any applicable national laws.\n",
      "Zomato may process and retain your personal information on its servers in India where its data centers are located, and/or on the servers of its third parties , having contractual relationships with Zomato.\n",
      "Your Personal Information\n",
      "Personal Information is the information that can be associated with a specific person and could be used to identify that specific person whether from that data, or from the data and other information that we have, or is likely to have access to.\n",
      "We do not consider personal information to include information that has been made anonymous or aggregated so that it can no longer be used to identify a specific person, whether in combination with other information or otherwise.\n",
      "Information about your internet connection, the equipment you use to access our Services and your usage details.\n",
      "directly from you when you provide it to us; and/or\n",
      "Information You Provide to Us\n",
      "Your content: Information you provide through our Services, including your reviews, photographs, comments, lists, followers, the users you follow, current and prior restaurant reservation details, food ordering details and history, favorite restaurants, special restaurant requests, contact information of people you add to, or notify of, your restaurant reservations through our Services, names, and other information you provide on our Services, and other information in your account profile.\n",
      "We use the information you provide to us to enhance the functionality and improve the quality of our Services, and to personalize your experience while using our Services.\n",
      "We may automatically collect certain information about the computer or devices  you use to access the Services, and about your use of the Services, even if you use the Services without registering or logging in.\n",
      "This may include, for example, photographs, audio and video clips, personal contacts and address book information.\n",
      "Applications: If you use the Zomato application, Zomato may collect information about the presence and/ or absence and/ or details pertaining to other applications on your mobile phone.\n",
      "When you use one of our location enabled services , we may collect and process information about your mobile device GPS location\n",
      "Some of these services require your personal data for the feature to work\n",
      "If you wish to use the particular feature, you will be asked to consent to your data being used for this purpose.\n",
      "You can withdraw your consent at any time by disabling the GPS or other location tracking functions on your device, provided your device allows you to do this.\n",
      "You will need to opt out on each browser and each device you use to access the Services.\n",
      "By using our Services with your browser set to accept cookies you are consenting to our use of cookies in the manner described in this section.\n",
      "We may collect, process and store your user ID associated with any social media account  that you use to sign into the Services or connect with or use with the Services.\n",
      "When you sign in to your account with your social media account information, or otherwise connect to your social media account with the Services, you consent to our collection, storage, and use, in accordance with this Privacy Policy, of the information that you make available to us through the social media interface.\n",
      "In any other way we may describe when you provide the information.\n",
      "For any other purpose with your consent.\n",
      "Even though we do not disclose your personal information for these purposes without your consent, if you click on or otherwise interact with an advertisement, the advertiser may assume that you meet its target criteria.\n",
      "We may disclose personal information that we collect or you provide, as described in this privacy policy, in the following ways:\n",
      "To contractors, advertisers/service providers and other third parties whom we use to support our business  and who are bound by contractual obligations to keep personal information confidential and use it only for the purposes for which we disclose it to them.\n",
      "To a buyer or other successor in the event of a merger, divestiture, restructuring, reorganization, dissolution or other sale or transfer of some or all of Zomato assets, whether as a going concern or as part of bankruptcy, liquidation or similar proceeding, in which personal information held by Zomato about the users of our Services are among the assets transferred.\n",
      "We contractually require these third parties to keep personal information confidential and use it only for the purposes for which we disclose it to them.\n",
      "To fulfill the purpose for which you provide it.\n",
      "For any other purpose disclosed by us when you provide the information.\n",
      "Consent.\n",
      "We may share your information in any other circumstances where we have your consent.\n",
      "If you provide a mobile phone number, restaurants or Zomato may send you text messages regarding your reservation or order delivery status.\n",
      "By submitting your credit or debit card account information through our Services, you expressly consent to the sharing of your information with restaurants, third party payment processors, and other third party service providers , and you further agree to the following terms:\n",
      "When you use a credit or debit card to secure a reservation through our Sites, we provide your credit or debit card account information  to our third party payment service providers and the applicable restaurant.\n",
      "We also allow other third parties  to serve tailored ads to you on the Services, and to access their own cookies or similar technologies on your computer, mobile phone, or other device you use to access the Services.\n",
      "We strive to provide you with choices regarding the personal information you provide to us.\n",
      "We do not share your personal information with any advertising agency.\n",
      "If you would like to review, change or delete personal information we have collected from you, or permanently delete your account, please use the Contact Us link at the bottom of every page , or contact the Zomato Data Protection Officer .\n",
      "Accessing & correcting your personal information\n",
      "We will take reasonable steps to accurately record the personal information that you provide to us and any subsequent updates.\n",
      "We encourage you to review, update, and correct the personal information that we maintain about you, and you may request that we delete personal information about you that is inaccurate, incomplete, or irrelevant for legitimate purposes, or are being processed in a way which infringes any applicable legal requirement.\n",
      "Your right to review, update, correct, and delete your personal information may be limited, subject to the law of your jurisdiction:\n",
      "We follow generally accepted industry standards to protect the personal information submitted to us, both during transmission and once we receive it.\n",
      "You play an important role in keeping your personal information secure.\n",
      "We do not knowingly collect any personal information from users or market to or solicit information from anyone under the Permissible Age.\n",
      "If we become aware that a person submitting personal information is under the Permissible Age, we will delete the account and any related information as soon as possible.\n",
      "California law permits users who are California residents to request and obtain from us once a year, free of charge, a list of the third parties to whom we have disclosed their personal information  for their direct marketing purposes in the prior calendar year, as well as the type of personal information disclosed to those parties.\n",
      "Right to information   including contact details to the DPO, the purposes for processing Personal Information and the rights of the individual.\n",
      "Right to access the Personal Information that are processed\n",
      "Right to data portability of the Personal Information supplied to Zomato by the EU resident\n",
      "Thereafter, we will either delete your personal information or de identify it so that it is anonymous and not attributed to your identity.\n",
      "Your continued use of the Services following the posting of changes to this Privacy Policy will constitute your consent and acceptance of those changes.\n"
     ]
    }
   ],
   "source": [
    "for i in result:\n",
    "  print(i)"
   ]
  },
  {
   "cell_type": "code",
   "execution_count": 34,
   "metadata": {
    "colab": {
     "base_uri": "https://localhost:8080/"
    },
    "id": "a4VS5Hsg2ku1",
    "outputId": "abe149e2-3f8b-4618-9a0c-4b4b03d90be4"
   },
   "outputs": [
    {
     "name": "stdout",
     "output_type": "stream",
     "text": [
      "                                               result\n",
      "0   This policy DOES NOT apply to information that...\n",
      "1   By accessing or using its Services and/or regi...\n",
      "2   If you reside in a country within the European...\n",
      "3   , NC 28227 will be the controller of your pers...\n",
      "4   If you reside in any other part of the world, ...\n",
      "5   Your data controller is responsible for the co...\n",
      "6   Zomato may process and retain your personal in...\n",
      "7                           Your Personal Information\n",
      "8   Personal Information is the information that c...\n",
      "9   We do not consider personal information to inc...\n",
      "10  Information about your internet connection, th...\n",
      "11  directly from you when you provide it to us; a...\n",
      "12                      Information You Provide to Us\n",
      "13  Your content: Information you provide through ...\n",
      "14  We use the information you provide to us to en...\n",
      "15  We may automatically collect certain informati...\n",
      "16  This may include, for example, photographs, au...\n",
      "17  Applications: If you use the Zomato applicatio...\n",
      "18  When you use one of our location enabled servi...\n",
      "19  Some of these services require your personal d...\n",
      "20  If you wish to use the particular feature, you...\n",
      "21  You can withdraw your consent at any time by d...\n",
      "22  You will need to opt out on each browser and e...\n",
      "23  By using our Services with your browser set to...\n",
      "24  We may collect, process and store your user ID...\n",
      "25  When you sign in to your account with your soc...\n",
      "26  In any other way we may describe when you prov...\n",
      "27           For any other purpose with your consent.\n",
      "28  Even though we do not disclose your personal i...\n",
      "29  We may disclose personal information that we c...\n",
      "30  To contractors, advertisers/service providers ...\n",
      "31  To a buyer or other successor in the event of ...\n",
      "32  We contractually require these third parties t...\n",
      "33   To fulfill the purpose for which you provide it.\n",
      "34  For any other purpose disclosed by us when you...\n",
      "35                                           Consent.\n",
      "36  We may share your information in any other cir...\n",
      "37  If you provide a mobile phone number, restaura...\n",
      "38  By submitting your credit or debit card accoun...\n",
      "39  When you use a credit or debit card to secure ...\n",
      "40  We also allow other third parties  to serve ta...\n",
      "41  We strive to provide you with choices regardin...\n",
      "42  We do not share your personal information with...\n",
      "43  If you would like to review, change or delete ...\n",
      "44   Accessing & correcting your personal information\n",
      "45  We will take reasonable steps to accurately re...\n",
      "46  We encourage you to review, update, and correc...\n",
      "47  Your right to review, update, correct, and del...\n",
      "48  We follow generally accepted industry standard...\n",
      "49  You play an important role in keeping your per...\n",
      "50  We do not knowingly collect any personal infor...\n",
      "51  If we become aware that a person submitting pe...\n",
      "52  California law permits users who are Californi...\n",
      "53  Right to information   including contact detai...\n",
      "54  Right to access the Personal Information that ...\n",
      "55  Right to data portability of the Personal Info...\n",
      "56  Thereafter, we will either delete your persona...\n",
      "57  Your continued use of the Services following t...\n"
     ]
    }
   ],
   "source": [
    "df = pd.DataFrame(result, columns=['result'])\n",
    "print(df)"
   ]
  },
  {
   "cell_type": "markdown",
   "metadata": {
    "id": "yGRkGBVs5CiP"
   },
   "source": [
    "# **Amazon Privacy Policy**"
   ]
  },
  {
   "cell_type": "code",
   "execution_count": 35,
   "metadata": {
    "colab": {
     "base_uri": "https://localhost:8080/"
    },
    "id": "2iVHki1p5LkV",
    "outputId": "9db1b196-1ca4-4387-e950-72d38d68d82b"
   },
   "outputs": [
    {
     "name": "stdout",
     "output_type": "stream",
     "text": [
      "Drive already mounted at /content/drive; to attempt to forcibly remount, call drive.mount(\"/content/drive\", force_remount=True).\n"
     ]
    }
   ],
   "source": [
    "import numpy as np\n",
    "import pandas as pd\n",
    "import seaborn as sns\n",
    "import matplotlib.pyplot as plt\n",
    "from google.colab import drive\n",
    "drive.mount('/content/drive')"
   ]
  },
  {
   "cell_type": "code",
   "execution_count": 36,
   "metadata": {
    "id": "QWrg07ic5P3T"
   },
   "outputs": [],
   "source": [
    "dataset_policy= pd.read_csv('/content/drive/MyDrive/amazon_in.txt', delimiter = '\\t') "
   ]
  },
  {
   "cell_type": "code",
   "execution_count": 37,
   "metadata": {
    "colab": {
     "base_uri": "https://localhost:8080/",
     "height": 417
    },
    "id": "xDjLFFYt5aZC",
    "outputId": "f70e5836-4273-4905-a860-e5b5b6830eba"
   },
   "outputs": [
    {
     "data": {
      "text/html": [
       "<div>\n",
       "<style scoped>\n",
       "    .dataframe tbody tr th:only-of-type {\n",
       "        vertical-align: middle;\n",
       "    }\n",
       "\n",
       "    .dataframe tbody tr th {\n",
       "        vertical-align: top;\n",
       "    }\n",
       "\n",
       "    .dataframe thead th {\n",
       "        text-align: right;\n",
       "    }\n",
       "</style>\n",
       "<table border=\"1\" class=\"dataframe\">\n",
       "  <thead>\n",
       "    <tr style=\"text-align: right;\">\n",
       "      <th></th>\n",
       "      <th>Amazon.in Privacy Notice</th>\n",
       "    </tr>\n",
       "  </thead>\n",
       "  <tbody>\n",
       "    <tr>\n",
       "      <th>0</th>\n",
       "      <td>Last updated: October 21, 2020. To see prior v...</td>\n",
       "    </tr>\n",
       "    <tr>\n",
       "      <th>1</th>\n",
       "      <td>We know that you care how information about yo...</td>\n",
       "    </tr>\n",
       "    <tr>\n",
       "      <th>2</th>\n",
       "      <td>By using Amazon Services you agree to our use ...</td>\n",
       "    </tr>\n",
       "    <tr>\n",
       "      <th>3</th>\n",
       "      <td>Personal information subject to this Privacy N...</td>\n",
       "    </tr>\n",
       "    <tr>\n",
       "      <th>4</th>\n",
       "      <td>What Personal Information About Customers Does...</td>\n",
       "    </tr>\n",
       "    <tr>\n",
       "      <th>...</th>\n",
       "      <td>...</td>\n",
       "    </tr>\n",
       "    <tr>\n",
       "      <th>183</th>\n",
       "      <td>Click here for customer support.</td>\n",
       "    </tr>\n",
       "    <tr>\n",
       "      <th>184</th>\n",
       "      <td>The Grievance Officer is identified above purs...</td>\n",
       "    </tr>\n",
       "    <tr>\n",
       "      <th>185</th>\n",
       "      <td>Was this information helpful?</td>\n",
       "    </tr>\n",
       "    <tr>\n",
       "      <th>186</th>\n",
       "      <td>Yes</td>\n",
       "    </tr>\n",
       "    <tr>\n",
       "      <th>187</th>\n",
       "      <td>No</td>\n",
       "    </tr>\n",
       "  </tbody>\n",
       "</table>\n",
       "<p>188 rows × 1 columns</p>\n",
       "</div>"
      ],
      "text/plain": [
       "                              Amazon.in Privacy Notice\n",
       "0    Last updated: October 21, 2020. To see prior v...\n",
       "1    We know that you care how information about yo...\n",
       "2    By using Amazon Services you agree to our use ...\n",
       "3    Personal information subject to this Privacy N...\n",
       "4    What Personal Information About Customers Does...\n",
       "..                                                 ...\n",
       "183                   Click here for customer support.\n",
       "184  The Grievance Officer is identified above purs...\n",
       "185                      Was this information helpful?\n",
       "186                                                Yes\n",
       "187                                                 No\n",
       "\n",
       "[188 rows x 1 columns]"
      ]
     },
     "execution_count": 37,
     "metadata": {},
     "output_type": "execute_result"
    }
   ],
   "source": [
    "dataset_policy\n"
   ]
  },
  {
   "cell_type": "code",
   "execution_count": 38,
   "metadata": {
    "id": "7HokhkgJ5lix"
   },
   "outputs": [],
   "source": [
    "import spacy\n",
    "from spacy.matcher import Matcher \n",
    "\n",
    "# load english language model\n",
    "nlp = spacy.load('en_core_web_sm',disable=['ner','textcat'])"
   ]
  },
  {
   "cell_type": "code",
   "execution_count": 39,
   "metadata": {
    "id": "geSIumuo5qLv"
   },
   "outputs": [],
   "source": [
    "result = []"
   ]
  },
  {
   "cell_type": "markdown",
   "metadata": {
    "id": "6rEVQznQ5uZ1"
   },
   "source": [
    "**Removing all unwanted characters like email extensions and other non relevant details**"
   ]
  },
  {
   "cell_type": "code",
   "execution_count": 40,
   "metadata": {
    "id": "9BnTP37u5yay"
   },
   "outputs": [],
   "source": [
    "import re\n",
    "def cleanningunwanted(text):\n",
    "    \n",
    "    text = re.sub('[0-9]+.\\t','',str(text))\n",
    "    text = re.sub('\\n ','',str(text))\n",
    "    text = re.sub('\\n',' ',str(text))\n",
    "    text = re.sub(\"'s\",'',str(text))\n",
    "    text = re.sub(\"-\",' ',str(text))\n",
    "    text = re.sub(\"— \",'',str(text))\n",
    "    text = re.sub('\\\"','',str(text))\n",
    "    text = re.sub(\"[\\(\\[].*?[\\)\\]]\", \"\", str(text))\n",
    "    return text\n",
    "\n",
    "# preprocessing speeches\n",
    "dataset_policy['Amazon.in Privacy Notice'] = dataset_policy['Amazon.in Privacy Notice'].apply(cleanningunwanted)"
   ]
  },
  {
   "cell_type": "markdown",
   "metadata": {
    "id": "B20CeElo6BW8"
   },
   "source": [
    "**In this function we are finding all the lines which follow a specific pattern. A pattern which gives sentences telling about users consent and choice. These patterns are generic in nature meaning commonly used words in privacy policies of different companies denoting user consent**"
   ]
  },
  {
   "cell_type": "code",
   "execution_count": 41,
   "metadata": {
    "id": "CWnBGgpO590K"
   },
   "outputs": [],
   "source": [
    "\n",
    "def sent_subtree(text):\n",
    "    \n",
    "    patterns = [r'\\b(?i)'+'you allow'+r'\\b',\n",
    "              r'\\b(?i)'+'you provide'+r'\\b',\n",
    "              r'\\b(?i)'+'you use'+r'\\b',\n",
    "             r'\\b(?i)'+'accept'+r'\\b',\n",
    "             r'\\b(?i)'+'you share'+r'\\b',\n",
    "             r'\\b(?i)'+'agree'+r'\\b',\n",
    "             r'\\b(?i)'+'consent'+r'\\b',\n",
    "             r'\\b(?i)'+'personal'+r'\\b',\n",
    "             \n",
    "              ]\n",
    "    \n",
    "    doc = nlp(text)\n",
    "    flag = 0\n",
    "    # if no initiative present in sentence\n",
    "    for pat in patterns:\n",
    "        \n",
    "        if re.search(pat, text) != None:\n",
    "          flag = 1\n",
    "          print(pat)\n",
    "          break\n",
    "    if flag == 1:\n",
    "      result.append(text)      \n",
    "            \n",
    "      "
   ]
  },
  {
   "cell_type": "code",
   "execution_count": 42,
   "metadata": {
    "id": "9vW0ZLWf6Gly"
   },
   "outputs": [],
   "source": [
    "initial = dataset_policy['Amazon.in Privacy Notice']"
   ]
  },
  {
   "cell_type": "code",
   "execution_count": 43,
   "metadata": {
    "colab": {
     "base_uri": "https://localhost:8080/"
    },
    "id": "eHP8eLdg6mng",
    "outputId": "ea3636a1-45d0-45a6-844a-a4a1e94a816d"
   },
   "outputs": [
    {
     "name": "stdout",
     "output_type": "stream",
     "text": [
      "0      Last updated: October 21, 2020. To see prior v...\n",
      "1      We know that you care how information about yo...\n",
      "2      By using Amazon Services you agree to our use ...\n",
      "3      Personal information subject to this Privacy N...\n",
      "4      What Personal Information About Customers Does...\n",
      "                             ...                        \n",
      "183                     Click here for customer support.\n",
      "184    The Grievance Officer is identified above purs...\n",
      "185                        Was this information helpful?\n",
      "186                                                  Yes\n",
      "187                                                   No\n",
      "Name: Amazon.in Privacy Notice, Length: 188, dtype: object\n"
     ]
    }
   ],
   "source": [
    "print(initial)"
   ]
  },
  {
   "cell_type": "markdown",
   "metadata": {
    "id": "7hTtXXij64Ur"
   },
   "source": [
    "**This function is just to separate all the different sentences. We separate sentences with full stop. They are more than one full stop delimited sentences in a single in the text file. Hence we are separating each sentence for better pattern matching**"
   ]
  },
  {
   "cell_type": "code",
   "execution_count": 44,
   "metadata": {
    "id": "gMCrFaIO6rrB"
   },
   "outputs": [],
   "source": [
    "interim = []"
   ]
  },
  {
   "cell_type": "code",
   "execution_count": 45,
   "metadata": {
    "id": "5iXkzzRS6-QP"
   },
   "outputs": [],
   "source": [
    "def separation(text):\n",
    "   import spacy\n",
    "   nlp = spacy.load('en')\n",
    "   tokens = nlp(text)\n",
    "   for sent in tokens.sents:\n",
    "     interim.append(sent.string.strip())"
   ]
  },
  {
   "cell_type": "code",
   "execution_count": 46,
   "metadata": {
    "id": "F9a5k_jt7Cuz"
   },
   "outputs": [],
   "source": [
    "interim = []\n",
    "for i in initial:\n",
    "  separation(i)"
   ]
  },
  {
   "cell_type": "markdown",
   "metadata": {
    "id": "5cOCKDbv7KcV"
   },
   "source": [
    "**Outputting the patterns matched in the lines**"
   ]
  },
  {
   "cell_type": "code",
   "execution_count": 47,
   "metadata": {
    "colab": {
     "base_uri": "https://localhost:8080/"
    },
    "id": "b-GtsI0W7G97",
    "outputId": "ff783a09-2fc5-4c2d-a540-1596296ce3c0"
   },
   "outputs": [
    {
     "name": "stdout",
     "output_type": "stream",
     "text": [
      "\\b(?i)personal\\b\n",
      "\\b(?i)agree\\b\n",
      "\\b(?i)agree\\b\n",
      "\\b(?i)personal\\b\n",
      "\\b(?i)personal\\b\n",
      "\\b(?i)personal\\b\n",
      "\\b(?i)personal\\b\n",
      "\\b(?i)personal\\b\n",
      "\\b(?i)personal\\b\n",
      "\\b(?i)personal\\b\n",
      "\\b(?i)you provide\\b\n",
      "\\b(?i)personal\\b\n",
      "\\b(?i)personal\\b\n",
      "\\b(?i)personal\\b\n",
      "\\b(?i)personal\\b\n",
      "\\b(?i)personal\\b\n",
      "\\b(?i)you use\\b\n",
      "\\b(?i)personal\\b\n",
      "\\b(?i)personal\\b\n",
      "\\b(?i)personal\\b\n",
      "\\b(?i)personal\\b\n",
      "\\b(?i)personal\\b\n",
      "\\b(?i)personal\\b\n",
      "\\b(?i)personal\\b\n",
      "\\b(?i)personal\\b\n",
      "\\b(?i)personal\\b\n",
      "\\b(?i)personal\\b\n",
      "\\b(?i)personal\\b\n",
      "\\b(?i)personal\\b\n",
      "\\b(?i)personal\\b\n",
      "\\b(?i)personal\\b\n",
      "\\b(?i)personal\\b\n",
      "\\b(?i)personal\\b\n",
      "\\b(?i)personal\\b\n",
      "\\b(?i)consent\\b\n",
      "\\b(?i)you use\\b\n",
      "\\b(?i)you provide\\b\n",
      "\\b(?i)personal\\b\n"
     ]
    }
   ],
   "source": [
    "for i in interim:\n",
    "  sent_subtree(i)"
   ]
  },
  {
   "cell_type": "markdown",
   "metadata": {
    "id": "rdddchxJ7ccl"
   },
   "source": [
    "**The next two cells show the result. The first cell shows the result in the resultant cell and the second cell is just the dataframe of the result.**"
   ]
  },
  {
   "cell_type": "code",
   "execution_count": 48,
   "metadata": {
    "colab": {
     "base_uri": "https://localhost:8080/"
    },
    "id": "a2ZHGijI7eH6",
    "outputId": "83c11e5a-af02-434d-c26e-8b347dfa5e6b"
   },
   "outputs": [
    {
     "name": "stdout",
     "output_type": "stream",
     "text": [
      "This Privacy Notice describes how Amazon Seller Services Private Limited and its affiliates including Amazon.com, Inc.  collect and process your personal information through Amazon websites, devices, products, services, online marketplace and applications that reference this Privacy Notice .\n",
      "By using Amazon Services you agree to our use of your personal information  in accordance with this Privacy Notice, as may be amended from time to time by us at our discretion.\n",
      "You also agree and consent to us collecting, storing, processing, transferring, and sharing your personal information  with third parties or service providers for the purposes set out in this Privacy Notice.\n",
      "Personal information subject to this Privacy Notice will be collected and retained by Amazon, with a registered office at 8th floor, Brigade Gateway 26/1 Dr. Rajkumar Road Bangalore Karnataka 560055 India.\n",
      "What Personal Information About Customers Does Amazon Collect?\n",
      "For What Purposes Does Amazon Use Your Personal Information?\n",
      "Does Amazon Share Your Personal Information?\n",
      "What Personal Information About Customers Does Amazon Collect?\n",
      "We collect your personal information in order to provide and continually improve our products and services.\n",
      "Here are the types of personal information we collect:\n",
      "Information You Give Us: We receive and store any information you provide in relation to Amazon Services.\n",
      "For What Purposes Does Amazon Use Your Personal Information?\n",
      "We use your personal information to operate, provide, develop, and improve the products and services that we offer our customers.\n",
      "We use your personal information to take and fulfill orders, deliver products and services, process payments, and communicate with you about orders, products and services, and promotional offers.\n",
      "We use your personal information to provide functionality, analyze performance, fix errors, and improve the usability and effectiveness of the Amazon Services.\n",
      "We use your personal information to recommend features, products, and services that might be of interest to you, identify your preferences, and personalize your experience with Amazon Services.\n",
      "When you use our voice, image and camera services, we use your voice input, images, videos, and other personal information to respond to your requests, provide the requested service to you, and improve our services.\n",
      "In certain cases, we collect and use your personal information to comply with laws.\n",
      "We use your personal information to communicate with you in relation to Amazon Services via different channels .\n",
      "We use your personal information to display interest based ads for features, products, and services that might be of interest to you.\n",
      "We use personal information to prevent and detect fraud and abuse in order to protect the security of our customers, Amazon, and others.\n",
      "Does Amazon Share Your Personal Information?\n",
      "Information about our customers is an important part of our business and we are not in the business of selling our customers’ personal information to others.\n",
      "We share customers’ personal information only as described below and with Amazon.com, Inc. and subsidiaries that Amazon.com, Inc. controls that either are subject to this Privacy Notice or follow practices at least as protective as those described in this Privacy Notice.\n",
      "You can tell when a third party is involved in your transactions, and we share customers’ personal information related to those transactions with that third party.\n",
      "These third party service providers have access to personal information needed to perform their functions, but may not use it for other purposes.\n",
      "Further, they must process the personal information in accordance with applicable law.\n",
      "Protection of Amazon and Others: We release account and other personal information when we believe release is appropriate to comply with the law; enforce or apply our Conditions of Use and other agreements; or protect the rights, property, or safety of Amazon, our users, or others.\n",
      "Other than as set out above, you will receive notice when personal information about you might be shared with third parties, and you will have an opportunity to choose not to share the information.\n",
      "We work to protect the security of your personal information during transmission by using encryption protocols and software.\n",
      "We maintain physical, electronic, and procedural safeguards in connection with the collection, storage, processing, and disclosure of personal customer information.\n",
      "Our security procedures mean that we may occasionally request proof of identity before we disclose personal information to you.\n",
      "To request access to personal information that is not available through Your Account you can submit a request here.\n",
      "If you have any questions as to how we collect and use your personal information, please contact our Grievance Officer.\n",
      "We stand behind the promises we make, however, and will never materially change our policies and practices to make them less protective of customer information collected in the past without the consent of affected customers.\n",
      "Information You Give Us When You Use Amazon Services\n",
      "You provide information to us when you:\n",
      "the personal description and photograph in Your Profile;\n"
     ]
    }
   ],
   "source": [
    "for i in result:\n",
    "  print(i)"
   ]
  },
  {
   "cell_type": "code",
   "execution_count": 49,
   "metadata": {
    "colab": {
     "base_uri": "https://localhost:8080/"
    },
    "id": "Na6-MNZt7hSu",
    "outputId": "8888e660-02c2-4e5f-af11-b91c8a81538b"
   },
   "outputs": [
    {
     "name": "stdout",
     "output_type": "stream",
     "text": [
      "                                               result\n",
      "0   This Privacy Notice describes how Amazon Selle...\n",
      "1   By using Amazon Services you agree to our use ...\n",
      "2   You also agree and consent to us collecting, s...\n",
      "3   Personal information subject to this Privacy N...\n",
      "4   What Personal Information About Customers Does...\n",
      "5   For What Purposes Does Amazon Use Your Persona...\n",
      "6        Does Amazon Share Your Personal Information?\n",
      "7   What Personal Information About Customers Does...\n",
      "8   We collect your personal information in order ...\n",
      "9   Here are the types of personal information we ...\n",
      "10  Information You Give Us: We receive and store ...\n",
      "11  For What Purposes Does Amazon Use Your Persona...\n",
      "12  We use your personal information to operate, p...\n",
      "13  We use your personal information to take and f...\n",
      "14  We use your personal information to provide fu...\n",
      "15  We use your personal information to recommend ...\n",
      "16  When you use our voice, image and camera servi...\n",
      "17  In certain cases, we collect and use your pers...\n",
      "18  We use your personal information to communicat...\n",
      "19  We use your personal information to display in...\n",
      "20  We use personal information to prevent and det...\n",
      "21       Does Amazon Share Your Personal Information?\n",
      "22  Information about our customers is an importan...\n",
      "23  We share customers’ personal information only ...\n",
      "24  You can tell when a third party is involved in...\n",
      "25  These third party service providers have acces...\n",
      "26  Further, they must process the personal inform...\n",
      "27  Protection of Amazon and Others: We release ac...\n",
      "28  Other than as set out above, you will receive ...\n",
      "29  We work to protect the security of your person...\n",
      "30  We maintain physical, electronic, and procedur...\n",
      "31  Our security procedures mean that we may occas...\n",
      "32  To request access to personal information that...\n",
      "33  If you have any questions as to how we collect...\n",
      "34  We stand behind the promises we make, however,...\n",
      "35  Information You Give Us When You Use Amazon Se...\n",
      "36            You provide information to us when you:\n",
      "37  the personal description and photograph in You...\n"
     ]
    }
   ],
   "source": [
    "df = pd.DataFrame(result, columns=['result'])\n",
    "print(df)"
   ]
  }
 ],
 "metadata": {
  "colab": {
   "name": "Question2.ipynb",
   "provenance": []
  },
  "kernelspec": {
   "display_name": "Python 3",
   "language": "python",
   "name": "python3"
  },
  "language_info": {
   "codemirror_mode": {
    "name": "ipython",
    "version": 3
   },
   "file_extension": ".py",
   "mimetype": "text/x-python",
   "name": "python",
   "nbconvert_exporter": "python",
   "pygments_lexer": "ipython3",
   "version": "3.8.8"
  }
 },
 "nbformat": 4,
 "nbformat_minor": 1
}
